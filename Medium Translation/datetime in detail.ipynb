{
 "cells": [
  {
   "cell_type": "markdown",
   "id": "22f40a14",
   "metadata": {},
   "source": [
    "Source: https://medium.com/techtofreedom/5-levels-of-handling-date-and-time-in-python-46b601e47f65"
   ]
  },
  {
   "cell_type": "markdown",
   "id": "cb4166a8",
   "metadata": {},
   "source": [
    "对于软件开发处理日期和时间都是基本的需要。由于日期和时间是一种特殊的数据类型，有时一些操作是令人困惑，且易犯错误的。例如不同的数据格式或者时间区域的转换\n",
    "\n",
    "许多编程工作者虽然工作了很多年，但是他们还是会遇到关于日期和时间的操作问题，这就是为什么本文必须要看的原因。\n",
    "\n",
    "这篇文章主要由易变难的解释了5种日期和时间的操作函数，在阅读完后，在python中处理日期和时间将对你是小菜一碟。"
   ]
  },
  {
   "cell_type": "markdown",
   "id": "757a0f9d",
   "metadata": {},
   "source": [
    "## Level 0: Know the Basic 3 Objects in Datetime Module"
   ]
  },
  {
   "cell_type": "markdown",
   "id": "dc1bebf2",
   "metadata": {},
   "source": [
    "在Python中所有与时间相关的对象都可以被这三个基础的`Datetime`模具构建，他们分别是：\n",
    "\n",
    "- datetime: 可以处理 year-month-day-hour-minute-second信息的对象\n",
    "- date: 可以用来处理 year-month-day信息的对象\n",
    "- time: 可以用来处理 hour-minute-second 信息的对象\n",
    "    \n",
    "让我们使用他们看看下面具体的例子："
   ]
  },
  {
   "cell_type": "markdown",
   "id": "2b3f3e9c",
   "metadata": {},
   "source": [
    "### 获取目前的时间信息"
   ]
  },
  {
   "cell_type": "markdown",
   "id": "e5c3bbea",
   "metadata": {},
   "source": [
    "我们可以类方法获取今天的时间或者日期，这是不用实例化时间或者日期对象"
   ]
  },
  {
   "cell_type": "code",
   "execution_count": 1,
   "id": "677a3925",
   "metadata": {},
   "outputs": [],
   "source": [
    "from datetime import datetime\n",
    "from datetime import date\n",
    "\n",
    "print(datetime.now())\n",
    "print(date.today())"
   ]
  },
  {
   "cell_type": "markdown",
   "id": "a14c6f67",
   "metadata": {},
   "source": [
    "### 构建和处理对象"
   ]
  },
  {
   "cell_type": "markdown",
   "id": "f38af55e",
   "metadata": {},
   "source": [
    "我们可以通过这三个模具构建具体的例子，根据具体的需求使用他们，下面的例子将解释 `date`例子，`datetime` 和 `time` 的例子是类似的。"
   ]
  },
  {
   "cell_type": "code",
   "execution_count": 8,
   "id": "bf87ca65",
   "metadata": {},
   "outputs": [
    {
     "name": "stdout",
     "output_type": "stream",
     "text": [
      "2021\n",
      "11\n",
      "15\n",
      "\n",
      "\n",
      "0\n",
      "2021-11-15\n",
      "2035-11-15\n"
     ]
    }
   ],
   "source": [
    "from datetime import date\n",
    "\n",
    "today = date(2021,11,15)\n",
    "\n",
    "print(today.year)\n",
    "print(today.month)\n",
    "print(today.day)\n",
    "print('\\n')\n",
    "print(today.weekday())\n",
    "\n",
    "new_date = today.replace(year=2035)\n",
    "print(today)\n",
    "print(new_date)"
   ]
  },
  {
   "cell_type": "markdown",
   "id": "99ce1315",
   "metadata": {},
   "source": [
    "## Level 1: Be Familiar with Time Calculations"
   ]
  },
  {
   "cell_type": "markdown",
   "id": "f18538e5",
   "metadata": {},
   "source": [
    "多亏了 `timedelta` 类， 在Python中计算时间是如此简单。"
   ]
  },
  {
   "cell_type": "code",
   "execution_count": 9,
   "id": "e75af838",
   "metadata": {},
   "outputs": [
    {
     "name": "stdout",
     "output_type": "stream",
     "text": [
      "2021-11-15 10:04:54.444396\n",
      "2021-11-16 10:04:54.444396\n",
      "2021-11-15 10:05:04.444396\n",
      "2021-11-08 10:04:54.444396\n"
     ]
    }
   ],
   "source": [
    "from datetime import datetime, timedelta\n",
    "\n",
    "now = datetime.now()\n",
    "print(now)\n",
    "\n",
    "tomorrow = now + timedelta(days=1)\n",
    "print(tomorrow)\n",
    "\n",
    "later = now + timedelta(seconds=10)\n",
    "print(later)\n",
    "\n",
    "last_week_day = now - timedelta(weeks=1)\n",
    "print(last_week_day)"
   ]
  },
  {
   "cell_type": "markdown",
   "id": "50403d61",
   "metadata": {},
   "source": [
    "## Level 2: Handle Time Zones Skilfully"
   ]
  },
  {
   "cell_type": "markdown",
   "id": "9001d646",
   "metadata": {},
   "source": [
    "`pytz`是经常被使用了，可以用来转化不同时区之间的时间，由于他不是内置函数，我们通过以下命令来安装。"
   ]
  },
  {
   "cell_type": "code",
   "execution_count": 12,
   "id": "7c35b9df",
   "metadata": {},
   "outputs": [
    {
     "name": "stdout",
     "output_type": "stream",
     "text": [
      "Defaulting to user installation because normal site-packages is not writeable\n",
      "Looking in indexes: https://pypi.tuna.tsinghua.edu.cn/simple\n",
      "Requirement already satisfied: pytz in /home/rankfan/.local/lib/python3.8/site-packages (2021.3)\n",
      "Note: you may need to restart the kernel to use updated packages.\n"
     ]
    }
   ],
   "source": [
    "pip install pytz"
   ]
  },
  {
   "cell_type": "code",
   "execution_count": 13,
   "id": "6ba655fd",
   "metadata": {},
   "outputs": [],
   "source": [
    "from datetime import datetime\n",
    "import pytz "
   ]
  },
  {
   "cell_type": "markdown",
   "id": "e605b730",
   "metadata": {},
   "source": [
    "我们可以打印列表核对所有时区的名字"
   ]
  },
  {
   "cell_type": "code",
   "execution_count": 14,
   "id": "707ac5ed",
   "metadata": {
    "scrolled": true
   },
   "outputs": [
    {
     "name": "stdout",
     "output_type": "stream",
     "text": [
      "['Africa/Abidjan', 'Africa/Accra', 'Africa/Addis_Ababa', 'Africa/Algiers', 'Africa/Asmara', 'Africa/Asmera', 'Africa/Bamako', 'Africa/Bangui', 'Africa/Banjul', 'Africa/Bissau', 'Africa/Blantyre', 'Africa/Brazzaville', 'Africa/Bujumbura', 'Africa/Cairo', 'Africa/Casablanca', 'Africa/Ceuta', 'Africa/Conakry', 'Africa/Dakar', 'Africa/Dar_es_Salaam', 'Africa/Djibouti', 'Africa/Douala', 'Africa/El_Aaiun', 'Africa/Freetown', 'Africa/Gaborone', 'Africa/Harare', 'Africa/Johannesburg', 'Africa/Juba', 'Africa/Kampala', 'Africa/Khartoum', 'Africa/Kigali', 'Africa/Kinshasa', 'Africa/Lagos', 'Africa/Libreville', 'Africa/Lome', 'Africa/Luanda', 'Africa/Lubumbashi', 'Africa/Lusaka', 'Africa/Malabo', 'Africa/Maputo', 'Africa/Maseru', 'Africa/Mbabane', 'Africa/Mogadishu', 'Africa/Monrovia', 'Africa/Nairobi', 'Africa/Ndjamena', 'Africa/Niamey', 'Africa/Nouakchott', 'Africa/Ouagadougou', 'Africa/Porto-Novo', 'Africa/Sao_Tome', 'Africa/Timbuktu', 'Africa/Tripoli', 'Africa/Tunis', 'Africa/Windhoek', 'America/Adak', 'America/Anchorage', 'America/Anguilla', 'America/Antigua', 'America/Araguaina', 'America/Argentina/Buenos_Aires', 'America/Argentina/Catamarca', 'America/Argentina/ComodRivadavia', 'America/Argentina/Cordoba', 'America/Argentina/Jujuy', 'America/Argentina/La_Rioja', 'America/Argentina/Mendoza', 'America/Argentina/Rio_Gallegos', 'America/Argentina/Salta', 'America/Argentina/San_Juan', 'America/Argentina/San_Luis', 'America/Argentina/Tucuman', 'America/Argentina/Ushuaia', 'America/Aruba', 'America/Asuncion', 'America/Atikokan', 'America/Atka', 'America/Bahia', 'America/Bahia_Banderas', 'America/Barbados', 'America/Belem', 'America/Belize', 'America/Blanc-Sablon', 'America/Boa_Vista', 'America/Bogota', 'America/Boise', 'America/Buenos_Aires', 'America/Cambridge_Bay', 'America/Campo_Grande', 'America/Cancun', 'America/Caracas', 'America/Catamarca', 'America/Cayenne', 'America/Cayman', 'America/Chicago', 'America/Chihuahua', 'America/Coral_Harbour', 'America/Cordoba', 'America/Costa_Rica', 'America/Creston', 'America/Cuiaba', 'America/Curacao', 'America/Danmarkshavn', 'America/Dawson', 'America/Dawson_Creek', 'America/Denver', 'America/Detroit', 'America/Dominica', 'America/Edmonton', 'America/Eirunepe', 'America/El_Salvador', 'America/Ensenada', 'America/Fort_Nelson', 'America/Fort_Wayne', 'America/Fortaleza', 'America/Glace_Bay', 'America/Godthab', 'America/Goose_Bay', 'America/Grand_Turk', 'America/Grenada', 'America/Guadeloupe', 'America/Guatemala', 'America/Guayaquil', 'America/Guyana', 'America/Halifax', 'America/Havana', 'America/Hermosillo', 'America/Indiana/Indianapolis', 'America/Indiana/Knox', 'America/Indiana/Marengo', 'America/Indiana/Petersburg', 'America/Indiana/Tell_City', 'America/Indiana/Vevay', 'America/Indiana/Vincennes', 'America/Indiana/Winamac', 'America/Indianapolis', 'America/Inuvik', 'America/Iqaluit', 'America/Jamaica', 'America/Jujuy', 'America/Juneau', 'America/Kentucky/Louisville', 'America/Kentucky/Monticello', 'America/Knox_IN', 'America/Kralendijk', 'America/La_Paz', 'America/Lima', 'America/Los_Angeles', 'America/Louisville', 'America/Lower_Princes', 'America/Maceio', 'America/Managua', 'America/Manaus', 'America/Marigot', 'America/Martinique', 'America/Matamoros', 'America/Mazatlan', 'America/Mendoza', 'America/Menominee', 'America/Merida', 'America/Metlakatla', 'America/Mexico_City', 'America/Miquelon', 'America/Moncton', 'America/Monterrey', 'America/Montevideo', 'America/Montreal', 'America/Montserrat', 'America/Nassau', 'America/New_York', 'America/Nipigon', 'America/Nome', 'America/Noronha', 'America/North_Dakota/Beulah', 'America/North_Dakota/Center', 'America/North_Dakota/New_Salem', 'America/Nuuk', 'America/Ojinaga', 'America/Panama', 'America/Pangnirtung', 'America/Paramaribo', 'America/Phoenix', 'America/Port-au-Prince', 'America/Port_of_Spain', 'America/Porto_Acre', 'America/Porto_Velho', 'America/Puerto_Rico', 'America/Punta_Arenas', 'America/Rainy_River', 'America/Rankin_Inlet', 'America/Recife', 'America/Regina', 'America/Resolute', 'America/Rio_Branco', 'America/Rosario', 'America/Santa_Isabel', 'America/Santarem', 'America/Santiago', 'America/Santo_Domingo', 'America/Sao_Paulo', 'America/Scoresbysund', 'America/Shiprock', 'America/Sitka', 'America/St_Barthelemy', 'America/St_Johns', 'America/St_Kitts', 'America/St_Lucia', 'America/St_Thomas', 'America/St_Vincent', 'America/Swift_Current', 'America/Tegucigalpa', 'America/Thule', 'America/Thunder_Bay', 'America/Tijuana', 'America/Toronto', 'America/Tortola', 'America/Vancouver', 'America/Virgin', 'America/Whitehorse', 'America/Winnipeg', 'America/Yakutat', 'America/Yellowknife', 'Antarctica/Casey', 'Antarctica/Davis', 'Antarctica/DumontDUrville', 'Antarctica/Macquarie', 'Antarctica/Mawson', 'Antarctica/McMurdo', 'Antarctica/Palmer', 'Antarctica/Rothera', 'Antarctica/South_Pole', 'Antarctica/Syowa', 'Antarctica/Troll', 'Antarctica/Vostok', 'Arctic/Longyearbyen', 'Asia/Aden', 'Asia/Almaty', 'Asia/Amman', 'Asia/Anadyr', 'Asia/Aqtau', 'Asia/Aqtobe', 'Asia/Ashgabat', 'Asia/Ashkhabad', 'Asia/Atyrau', 'Asia/Baghdad', 'Asia/Bahrain', 'Asia/Baku', 'Asia/Bangkok', 'Asia/Barnaul', 'Asia/Beirut', 'Asia/Bishkek', 'Asia/Brunei', 'Asia/Calcutta', 'Asia/Chita', 'Asia/Choibalsan', 'Asia/Chongqing', 'Asia/Chungking', 'Asia/Colombo', 'Asia/Dacca', 'Asia/Damascus', 'Asia/Dhaka', 'Asia/Dili', 'Asia/Dubai', 'Asia/Dushanbe', 'Asia/Famagusta', 'Asia/Gaza', 'Asia/Harbin', 'Asia/Hebron', 'Asia/Ho_Chi_Minh', 'Asia/Hong_Kong', 'Asia/Hovd', 'Asia/Irkutsk', 'Asia/Istanbul', 'Asia/Jakarta', 'Asia/Jayapura', 'Asia/Jerusalem', 'Asia/Kabul', 'Asia/Kamchatka', 'Asia/Karachi', 'Asia/Kashgar', 'Asia/Kathmandu', 'Asia/Katmandu', 'Asia/Khandyga', 'Asia/Kolkata', 'Asia/Krasnoyarsk', 'Asia/Kuala_Lumpur', 'Asia/Kuching', 'Asia/Kuwait', 'Asia/Macao', 'Asia/Macau', 'Asia/Magadan', 'Asia/Makassar', 'Asia/Manila', 'Asia/Muscat', 'Asia/Nicosia', 'Asia/Novokuznetsk', 'Asia/Novosibirsk', 'Asia/Omsk', 'Asia/Oral', 'Asia/Phnom_Penh', 'Asia/Pontianak', 'Asia/Pyongyang', 'Asia/Qatar', 'Asia/Qostanay', 'Asia/Qyzylorda', 'Asia/Rangoon', 'Asia/Riyadh', 'Asia/Saigon', 'Asia/Sakhalin', 'Asia/Samarkand', 'Asia/Seoul', 'Asia/Shanghai', 'Asia/Singapore', 'Asia/Srednekolymsk', 'Asia/Taipei', 'Asia/Tashkent', 'Asia/Tbilisi', 'Asia/Tehran', 'Asia/Tel_Aviv', 'Asia/Thimbu', 'Asia/Thimphu', 'Asia/Tokyo', 'Asia/Tomsk', 'Asia/Ujung_Pandang', 'Asia/Ulaanbaatar', 'Asia/Ulan_Bator', 'Asia/Urumqi', 'Asia/Ust-Nera', 'Asia/Vientiane', 'Asia/Vladivostok', 'Asia/Yakutsk', 'Asia/Yangon', 'Asia/Yekaterinburg', 'Asia/Yerevan', 'Atlantic/Azores', 'Atlantic/Bermuda', 'Atlantic/Canary', 'Atlantic/Cape_Verde', 'Atlantic/Faeroe', 'Atlantic/Faroe', 'Atlantic/Jan_Mayen', 'Atlantic/Madeira', 'Atlantic/Reykjavik', 'Atlantic/South_Georgia', 'Atlantic/St_Helena', 'Atlantic/Stanley', 'Australia/ACT', 'Australia/Adelaide', 'Australia/Brisbane', 'Australia/Broken_Hill', 'Australia/Canberra', 'Australia/Currie', 'Australia/Darwin', 'Australia/Eucla', 'Australia/Hobart', 'Australia/LHI', 'Australia/Lindeman', 'Australia/Lord_Howe', 'Australia/Melbourne', 'Australia/NSW', 'Australia/North', 'Australia/Perth', 'Australia/Queensland', 'Australia/South', 'Australia/Sydney', 'Australia/Tasmania', 'Australia/Victoria', 'Australia/West', 'Australia/Yancowinna', 'Brazil/Acre', 'Brazil/DeNoronha', 'Brazil/East', 'Brazil/West', 'CET', 'CST6CDT', 'Canada/Atlantic', 'Canada/Central', 'Canada/Eastern', 'Canada/Mountain', 'Canada/Newfoundland', 'Canada/Pacific', 'Canada/Saskatchewan', 'Canada/Yukon', 'Chile/Continental', 'Chile/EasterIsland', 'Cuba', 'EET', 'EST', 'EST5EDT', 'Egypt', 'Eire', 'Etc/GMT', 'Etc/GMT+0', 'Etc/GMT+1', 'Etc/GMT+10', 'Etc/GMT+11', 'Etc/GMT+12', 'Etc/GMT+2', 'Etc/GMT+3', 'Etc/GMT+4', 'Etc/GMT+5', 'Etc/GMT+6', 'Etc/GMT+7', 'Etc/GMT+8', 'Etc/GMT+9', 'Etc/GMT-0', 'Etc/GMT-1', 'Etc/GMT-10', 'Etc/GMT-11', 'Etc/GMT-12', 'Etc/GMT-13', 'Etc/GMT-14', 'Etc/GMT-2', 'Etc/GMT-3', 'Etc/GMT-4', 'Etc/GMT-5', 'Etc/GMT-6', 'Etc/GMT-7', 'Etc/GMT-8', 'Etc/GMT-9', 'Etc/GMT0', 'Etc/Greenwich', 'Etc/UCT', 'Etc/UTC', 'Etc/Universal', 'Etc/Zulu', 'Europe/Amsterdam', 'Europe/Andorra', 'Europe/Astrakhan', 'Europe/Athens', 'Europe/Belfast', 'Europe/Belgrade', 'Europe/Berlin', 'Europe/Bratislava', 'Europe/Brussels', 'Europe/Bucharest', 'Europe/Budapest', 'Europe/Busingen', 'Europe/Chisinau', 'Europe/Copenhagen', 'Europe/Dublin', 'Europe/Gibraltar', 'Europe/Guernsey', 'Europe/Helsinki', 'Europe/Isle_of_Man', 'Europe/Istanbul', 'Europe/Jersey', 'Europe/Kaliningrad', 'Europe/Kiev', 'Europe/Kirov', 'Europe/Lisbon', 'Europe/Ljubljana', 'Europe/London', 'Europe/Luxembourg', 'Europe/Madrid', 'Europe/Malta', 'Europe/Mariehamn', 'Europe/Minsk', 'Europe/Monaco', 'Europe/Moscow', 'Europe/Nicosia', 'Europe/Oslo', 'Europe/Paris', 'Europe/Podgorica', 'Europe/Prague', 'Europe/Riga', 'Europe/Rome', 'Europe/Samara', 'Europe/San_Marino', 'Europe/Sarajevo', 'Europe/Saratov', 'Europe/Simferopol', 'Europe/Skopje', 'Europe/Sofia', 'Europe/Stockholm', 'Europe/Tallinn', 'Europe/Tirane', 'Europe/Tiraspol', 'Europe/Ulyanovsk', 'Europe/Uzhgorod', 'Europe/Vaduz', 'Europe/Vatican', 'Europe/Vienna', 'Europe/Vilnius', 'Europe/Volgograd', 'Europe/Warsaw', 'Europe/Zagreb', 'Europe/Zaporozhye', 'Europe/Zurich', 'GB', 'GB-Eire', 'GMT', 'GMT+0', 'GMT-0', 'GMT0', 'Greenwich', 'HST', 'Hongkong', 'Iceland', 'Indian/Antananarivo', 'Indian/Chagos', 'Indian/Christmas', 'Indian/Cocos', 'Indian/Comoro', 'Indian/Kerguelen', 'Indian/Mahe', 'Indian/Maldives', 'Indian/Mauritius', 'Indian/Mayotte', 'Indian/Reunion', 'Iran', 'Israel', 'Jamaica', 'Japan', 'Kwajalein', 'Libya', 'MET', 'MST', 'MST7MDT', 'Mexico/BajaNorte', 'Mexico/BajaSur', 'Mexico/General', 'NZ', 'NZ-CHAT', 'Navajo', 'PRC', 'PST8PDT', 'Pacific/Apia', 'Pacific/Auckland', 'Pacific/Bougainville', 'Pacific/Chatham', 'Pacific/Chuuk', 'Pacific/Easter', 'Pacific/Efate', 'Pacific/Enderbury', 'Pacific/Fakaofo', 'Pacific/Fiji', 'Pacific/Funafuti', 'Pacific/Galapagos', 'Pacific/Gambier', 'Pacific/Guadalcanal', 'Pacific/Guam', 'Pacific/Honolulu', 'Pacific/Johnston', 'Pacific/Kanton', 'Pacific/Kiritimati', 'Pacific/Kosrae', 'Pacific/Kwajalein', 'Pacific/Majuro', 'Pacific/Marquesas', 'Pacific/Midway', 'Pacific/Nauru', 'Pacific/Niue', 'Pacific/Norfolk', 'Pacific/Noumea', 'Pacific/Pago_Pago', 'Pacific/Palau', 'Pacific/Pitcairn', 'Pacific/Pohnpei', 'Pacific/Ponape', 'Pacific/Port_Moresby', 'Pacific/Rarotonga', 'Pacific/Saipan', 'Pacific/Samoa', 'Pacific/Tahiti', 'Pacific/Tarawa', 'Pacific/Tongatapu', 'Pacific/Truk', 'Pacific/Wake', 'Pacific/Wallis', 'Pacific/Yap', 'Poland', 'Portugal', 'ROC', 'ROK', 'Singapore', 'Turkey', 'UCT', 'US/Alaska', 'US/Aleutian', 'US/Arizona', 'US/Central', 'US/East-Indiana', 'US/Eastern', 'US/Hawaii', 'US/Indiana-Starke', 'US/Michigan', 'US/Mountain', 'US/Pacific', 'US/Samoa', 'UTC', 'Universal', 'W-SU', 'WET', 'Zulu']\n"
     ]
    }
   ],
   "source": [
    "print(pytz.all_timezones)"
   ]
  },
  {
   "cell_type": "markdown",
   "id": "a8c0249c",
   "metadata": {},
   "source": [
    "这样处理时区时间的时间变得简单："
   ]
  },
  {
   "cell_type": "code",
   "execution_count": 22,
   "id": "95c13115",
   "metadata": {},
   "outputs": [
    {
     "name": "stdout",
     "output_type": "stream",
     "text": [
      "15/11/2021, 10:17:06\n",
      "America/New_York\n",
      "14/11/2021, 21:17:06\n",
      "Asia/Hong_Kong\n",
      "15/11/2021, 10:17:06\n"
     ]
    }
   ],
   "source": [
    "local = datetime.now()\n",
    "print(local.strftime(\"%d/%m/%Y, %H:%M:%S\"))\n",
    "\n",
    "NY = pytz.timezone('America/New_York')\n",
    "print(NY)\n",
    "\n",
    "datetime_NY = datetime.now(NY)\n",
    "print(datetime_NY.strftime(\"%d/%m/%Y, %H:%M:%S\"))\n",
    "\n",
    "\n",
    "Hong_kong = pytz.timezone('Asia/Hong_Kong')\n",
    "print(Hong_kong)\n",
    "\n",
    "datetime_HK = datetime.now(Hong_kong)\n",
    "print(datetime_HK.strftime(\"%d/%m/%Y, %H:%M:%S\"))"
   ]
  },
  {
   "cell_type": "markdown",
   "id": "6f10311f",
   "metadata": {},
   "source": [
    "## Level 3: Clearly Understand Timestamps"
   ]
  },
  {
   "cell_type": "markdown",
   "id": "2b5ce2f7",
   "metadata": {},
   "source": [
    "为了更加有效率，时间在计算机中是用数字来表示的，我们可以定义一个特殊的时间，用0来表示，用它来计算其他的时间。\n",
    "\n",
    "这就是时间戳的想法。\n",
    "\n",
    "在 1970–01–01 00:00:00 的 UTC 时间被记作是0，被称为纪年时间或Unix时间，时间戳是相对纪元时间的秒数。\n",
    "\n",
    "- 在纪元时间之前的时间戳是负数\n",
    "- 在纪元时间之后的时间错是正数\n",
    "\n",
    "例如 1970–01–01 01:00:00 的时间戳是 3600，因为它是纪元时间后的一个小时，所以它等于3600秒。\n",
    "\n",
    "在Python中可以直接转化时间与时间戳。"
   ]
  },
  {
   "cell_type": "code",
   "execution_count": 24,
   "id": "4503f23a",
   "metadata": {},
   "outputs": [
    {
     "name": "stdout",
     "output_type": "stream",
     "text": [
      "1636942889.322223\n",
      "1970-01-01 01:00:00\n"
     ]
    }
   ],
   "source": [
    "from datetime import datetime\n",
    "\n",
    "now = datetime.now()\n",
    "print(now.timestamp())\n",
    "\n",
    "a_timestamp = 3600\n",
    "print(now.utcfromtimestamp(a_timestamp))"
   ]
  },
  {
   "cell_type": "markdown",
   "id": "08c7a2d0",
   "metadata": {},
   "source": [
    "在上述例子中，datetime.timestamp 可以将时间转化为时间戳，datetime.utcfromtimestamp方法可以将时间戳转化为时间。\n",
    "\n",
    "时间戳与时区是没有关系的，时间戳如果是确定的，它的 UTC 时间也是确定的。然而，时间是相对于时区的，当我们转化一个时间戳到一个时间时，我们有两种选择。\n",
    "\n",
    "- utcfromtimestamp 将时间戳转化为 UTC 时间\n",
    "- fromtimestamp 将时间戳转化为当地时间"
   ]
  },
  {
   "cell_type": "code",
   "execution_count": 25,
   "id": "6d9ca668",
   "metadata": {},
   "outputs": [
    {
     "name": "stdout",
     "output_type": "stream",
     "text": [
      "1970-01-01 00:00:00\n",
      "1970-01-01 08:00:00\n"
     ]
    }
   ],
   "source": [
    "print(datetime.utcfromtimestamp(0))\n",
    "print(datetime.fromtimestamp(0))"
   ]
  },
  {
   "cell_type": "markdown",
   "id": "5032859e",
   "metadata": {},
   "source": [
    "## Level 4: Switch Between Datetimes and Strings Properly"
   ]
  },
  {
   "cell_type": "markdown",
   "id": "340242fa",
   "metadata": {},
   "source": [
    "在字符串和时间之间进行转换也是日常需求，下面两个函数可以帮助我们：\n",
    "\n",
    "- strptime 转化字符串到一个时间对象\n",
    "- strftime 转化时间对象到字符串、\n",
    "\n",
    "注意：格式：%Y-%m-%d 或者 %a 是基于 [标准](https://webspace.science.uu.nl/~gent0113/calendar/isocalendar.htm)"
   ]
  },
  {
   "cell_type": "code",
   "execution_count": 27,
   "id": "52b2ba71",
   "metadata": {},
   "outputs": [
    {
     "name": "stdout",
     "output_type": "stream",
     "text": [
      "2021-11-15 10:37:26\n",
      "<class 'datetime.datetime'>\n",
      "Mon,  15/11/2021 10:41:40\n",
      "<class 'str'>\n"
     ]
    }
   ],
   "source": [
    "from datetime import datetime \n",
    "\n",
    "str_time = '2021-11-15 10:37:26'\n",
    "t = datetime.strptime(str_time, '%Y-%m-%d %H:%M:%S')\n",
    "print(t)\n",
    "print(type(t))\n",
    "\n",
    "\n",
    "now = datetime.now()\n",
    "string_now = now.strftime('%a,  %d/%m/%Y %H:%M:%S')\n",
    "print(string_now)\n",
    "print(type(string_now))"
   ]
  },
  {
   "cell_type": "markdown",
   "id": "85df4903",
   "metadata": {},
   "source": [
    "## 结论\n",
    "\n",
    "在编程中处理时间或日期数据是最基本的需求，它是值得让我们花费一些时间熟悉它的。"
   ]
  }
 ],
 "metadata": {
  "kernelspec": {
   "display_name": "Python 3",
   "language": "python",
   "name": "python3"
  },
  "language_info": {
   "codemirror_mode": {
    "name": "ipython",
    "version": 3
   },
   "file_extension": ".py",
   "mimetype": "text/x-python",
   "name": "python",
   "nbconvert_exporter": "python",
   "pygments_lexer": "ipython3",
   "version": "3.8.5"
  }
 },
 "nbformat": 4,
 "nbformat_minor": 5
}
